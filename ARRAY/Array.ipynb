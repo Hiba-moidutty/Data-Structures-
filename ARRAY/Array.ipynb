{
 "cells": [
  {
   "cell_type": "code",
   "execution_count": 1,
   "id": "c649d888",
   "metadata": {},
   "outputs": [
    {
     "name": "stdout",
     "output_type": "stream",
     "text": [
      "(54, 80, 99)\n"
     ]
    }
   ],
   "source": [
    "#to find Third largest element\n",
    "def thirdlarge(array):\n",
    "    large = seclarge = thirdlarge = 0\n",
    "    for i in range(0,len(array)):\n",
    "        if large < array[i]: \n",
    "            thirdlarge = seclarge\n",
    "            seclarge = large\n",
    "            large = array[i]\n",
    "        elif seclarge < array[i]:\n",
    "            thirdlarge = seclarge\n",
    "            seclarge = array[i]\n",
    "        else:\n",
    "            thirdlarge = array[i]\n",
    "            \n",
    "    return thirdlarge,seclarge,large\n",
    "\n",
    "\n",
    "array = [2,3,11,7,51,9,17,80,99,4,54] \n",
    "result = thirdlarge(array)\n",
    "print(result)"
   ]
  },
  {
   "cell_type": "code",
   "execution_count": 2,
   "id": "db6949bb",
   "metadata": {},
   "outputs": [
    {
     "name": "stdout",
     "output_type": "stream",
     "text": [
      "[5, 3, 1, 4, 5, 3, 1, 4]\n"
     ]
    }
   ],
   "source": [
    "def multiply(array):\n",
    "    for i in range(0,len(array)):\n",
    "        array.append(array[i])\n",
    "    return array\n",
    "\n",
    "\n",
    "array = [5,3,1,4]\n",
    "result = multiply(array)\n",
    "print(array)"
   ]
  },
  {
   "cell_type": "code",
   "execution_count": 3,
   "id": "3c616e73",
   "metadata": {},
   "outputs": [
    {
     "name": "stdout",
     "output_type": "stream",
     "text": [
      "the result is: 4\n"
     ]
    }
   ],
   "source": [
    "#Linear Search\n",
    "\n",
    "def linearsearch(array,data):\n",
    "    for i in range(len(array)):\n",
    "        if array[i] == data:\n",
    "            return i \n",
    "    return -1\n",
    "\n",
    "\n",
    "array = [3,5,12,65,33,8,15]\n",
    "data=33\n",
    "result = linearsearch(array,data)\n",
    "if result == -1:\n",
    "    print(\"Data not found\")\n",
    "else:\n",
    "    print(\"the result is:\", result)"
   ]
  },
  {
   "cell_type": "code",
   "execution_count": 4,
   "id": "75430dcb",
   "metadata": {},
   "outputs": [
    {
     "name": "stdout",
     "output_type": "stream",
     "text": [
      "Result is:  6\n"
     ]
    }
   ],
   "source": [
    "#Binary search\n",
    "\n",
    "def binarysearch(array,low,high,data):\n",
    "    while low<=high:\n",
    "        mid = (low + high)//2\n",
    "        if data == array[mid]:\n",
    "            return mid\n",
    "        elif data < mid:\n",
    "            high = mid - 1\n",
    "        else:\n",
    "            low = mid + 1\n",
    "    return -1\n",
    "    \n",
    "    \n",
    "array = [1,4,7,9,31,65,87,90,99]\n",
    "data = 87\n",
    "result = binarysearch(array,0,len(array)-1,data)\n",
    "if result == -1:\n",
    "    print(\"data not found\")\n",
    "else:\n",
    "    print(\"Result is: \",result)"
   ]
  },
  {
   "cell_type": "code",
   "execution_count": 5,
   "id": "6b25ab63",
   "metadata": {},
   "outputs": [
    {
     "name": "stdout",
     "output_type": "stream",
     "text": [
      "a = 60 b = 90\n"
     ]
    }
   ],
   "source": [
    "#to swap without temp\n",
    "\n",
    "a=90\n",
    "b=60\n",
    "a = a+b\n",
    "b = a-b\n",
    "a = a-b\n",
    "print(\"a =\",a,\"b =\",b)"
   ]
  },
  {
   "cell_type": "code",
   "execution_count": null,
   "id": "06824eee",
   "metadata": {},
   "outputs": [],
   "source": [
    "#Recursion example:\n",
    "#Fibonnacci series\n",
    "def Fibonacci(n):\n",
    "    if n<=0:\n",
    "        print(\"invalid input\")\n",
    "    elif n==1 or n==2:\n",
    "        return 1\n",
    "    else:\n",
    "        return Fibonacci(n-1) + Fibonacci(n+1)\n",
    "    \n",
    "    \n",
    "print(Fibonacci(4))"
   ]
  },
  {
   "cell_type": "code",
   "execution_count": 1,
   "id": "dc7f6f29",
   "metadata": {},
   "outputs": [
    {
     "name": "stdout",
     "output_type": "stream",
     "text": [
      "[2, 3, 7, 12, 56, 43, 5]\n"
     ]
    }
   ],
   "source": [
    "def delete(array,data,n):\n",
    "    for i in range(0,n):\n",
    "        if (array[i]==data):\n",
    "            del array[i]\n",
    "            break\n",
    "    return array\n",
    "\n",
    "array = [2,3,7,12,56,43,8,5]\n",
    "data = 8\n",
    "n=len(array)\n",
    "result = delete(array,data,n)\n",
    "print(result)"
   ]
  },
  {
   "cell_type": "code",
   "execution_count": 2,
   "id": "bc312927",
   "metadata": {},
   "outputs": [
    {
     "name": "stdout",
     "output_type": "stream",
     "text": [
      "6\n"
     ]
    }
   ],
   "source": [
    "def middle(array):\n",
    "    mid = len(array)//2\n",
    "    return array[mid]\n",
    "    \n",
    "    \n",
    "array = [2,4,12,6,51,8]\n",
    "mid = middle(array)\n",
    "print(mid)"
   ]
  },
  {
   "cell_type": "code",
   "execution_count": 3,
   "id": "9fbe625c",
   "metadata": {},
   "outputs": [
    {
     "name": "stdout",
     "output_type": "stream",
     "text": [
      "2\n"
     ]
    }
   ],
   "source": [
    "str = \"you are awsome\" \n",
    "c= str.count(\"e\")\n",
    "print(c)"
   ]
  },
  {
   "cell_type": "code",
   "execution_count": 4,
   "id": "7e593689",
   "metadata": {},
   "outputs": [
    {
     "name": "stdout",
     "output_type": "stream",
     "text": [
      "Hello World\n"
     ]
    }
   ],
   "source": [
    "str1 = \"Hello\"\n",
    "str2 = \" World\"\n",
    "res = str1+str2\n",
    "print(res)"
   ]
  },
  {
   "cell_type": "code",
   "execution_count": 1,
   "id": "199c0146",
   "metadata": {},
   "outputs": [
    {
     "name": "stdout",
     "output_type": "stream",
     "text": [
      "[1, 1, 0, 0]\n"
     ]
    }
   ],
   "source": [
    "def decimalbinary(num):\n",
    "    binary = []\n",
    "    while num > 0:\n",
    "        binary.insert(0,num%2)\n",
    "        num = num // 2\n",
    "    return binary\n",
    "    \n",
    "res = decimalbinary(12)\n",
    "print(res)\n"
   ]
  },
  {
   "cell_type": "code",
   "execution_count": null,
   "id": "090c5cbc",
   "metadata": {},
   "outputs": [],
   "source": [
    "#String reverse using Recursion\n",
    "def reversestring(s):\n",
    "    if len(s) == 0:\n",
    "        return s\n",
    "    else:\n",
    "        return reversestring(s[1:]) + s[0]\n",
    "    \n",
    "s = \"Hello World\"\n",
    "print(\"The string is: \",s)\n",
    "print(\"The reversed string is :\",reversestring(s))"
   ]
  },
  {
   "cell_type": "code",
   "execution_count": null,
   "id": "f106ff37",
   "metadata": {},
   "outputs": [],
   "source": [
    "#replace each string with another occuring at nth position\n",
    "\n",
    "def replace(string,n):\n",
    "    char_list= list(string)\n",
    "    for i in range(0,len(char_list)):\n",
    "        char_list[i] = char_list[n]\n",
    "    return \"\".join(char_list)\n",
    "\n",
    "string = \"Encyclopedia\"\n",
    "n = 3\n",
    "print(\"after replacing = \",replace(string,n))"
   ]
  },
  {
   "cell_type": "code",
   "execution_count": null,
   "id": "b408bca6",
   "metadata": {},
   "outputs": [],
   "source": [
    "# to print array elements using recursion\n",
    "\n",
    "def P_array(arr,i,n):\n",
    "    if i>=n:\n",
    "        return \n",
    "    print(arr[i],end=\" \")\n",
    "    P_array(arr,i+1,n)\n",
    "    \n",
    "arr = []\n",
    "n = 5\n",
    "for i in range(0,n):\n",
    "    num = int(input())\n",
    "    arr.append(num)\n",
    "print(\"the array element are: \")\n",
    "P_array(arr,0,n)\n"
   ]
  },
  {
   "cell_type": "code",
   "execution_count": null,
   "id": "bfb52c6c",
   "metadata": {},
   "outputs": [],
   "source": [
    "#to check if number is palindrome or not\n",
    "rev = 0\n",
    "def palindrome(num,n):\n",
    "    global rev\n",
    "    if num != 0:\n",
    "        rem = num % 10\n",
    "        rev = (rev*10) + rem\n",
    "        palindrome(num/10)\n",
    "    return rev\n",
    "    \n",
    "num = int(input(\"enter the number:\"))\n",
    "if(Num_reverse(num)==num):\n",
    "    print(\"the number is palindrome\")\n",
    "else:\n",
    "    print(\"the number is not palindrome\")"
   ]
  },
  {
   "cell_type": "code",
   "execution_count": 11,
   "id": "e609d9e7",
   "metadata": {},
   "outputs": [
    {
     "name": "stdout",
     "output_type": "stream",
     "text": [
      "Peak elements are:  [5, 10, 12]\n"
     ]
    }
   ],
   "source": [
    "#to find the peak element\n",
    "\n",
    "def peak_element(array):\n",
    "    b=[]\n",
    "    for i in range(1,len(array)-1):\n",
    "        if array[i] > array[i+1] and array[i] > array[i-1]:\n",
    "            b.append(array[i])\n",
    "    print(\"Peak elements are: \",b)\n",
    "           \n",
    "\n",
    "array = [3,5,2,9,10,4,6,12,1]\n",
    "peak_element(array)"
   ]
  },
  {
   "cell_type": "code",
   "execution_count": 21,
   "id": "bf8a94d0",
   "metadata": {},
   "outputs": [
    {
     "name": "stdout",
     "output_type": "stream",
     "text": [
      "[True, True, True, True, False, True, True, False, True] \n",
      "largest num is: 15\n"
     ]
    }
   ],
   "source": [
    "#to return true or false while adding key and num is greater than the greatest element or not\n",
    " \n",
    "def sumgrtr(arr,key):\n",
    "    large = 0\n",
    "    arr2 = []\n",
    "    for i in range(0,len(arr)):\n",
    "        if arr[i]> large:\n",
    "            large = arr[i]\n",
    "    for i in range(0,len(arr)):\n",
    "        if arr[i]+key > large:\n",
    "            arr2.append(False)\n",
    "        else:\n",
    "            arr2.append(True)\n",
    "    print(arr2,\"\\nlargest num is:\",large)\n",
    "\n",
    "    \n",
    "arr=[3,6,4,8,11,6,8,15,7]\n",
    "sumgrtr(arr,6)"
   ]
  },
  {
   "cell_type": "code",
   "execution_count": 69,
   "id": "8392f28a",
   "metadata": {},
   "outputs": [
    {
     "name": "stdout",
     "output_type": "stream",
     "text": [
      "4 2\n"
     ]
    }
   ],
   "source": [
    "def count_dup(array):\n",
    "    count = 1\n",
    "    max=0\n",
    "    for i in range(0,len(array)):\n",
    "        g= i+1\n",
    "        for j in range(i+1,len(array)):\n",
    "            if array[i] == array[j] and g==j:\n",
    "                count = count + 1\n",
    "                g= j+1\n",
    "                if count > max:\n",
    "                    max = count\n",
    "    print(count,array[i])\n",
    "\n",
    "array = [1,2,2,2,3,6,7,6,2]\n",
    "count_dup(array)"
   ]
  },
  {
   "cell_type": "code",
   "execution_count": null,
   "id": "ce121848",
   "metadata": {},
   "outputs": [],
   "source": [
    "def sumgrtr(arr,key):\n",
    "    large = 0\n",
    "    arr2 = []\n",
    "    large = max(arr)\n",
    "    for i in range(0,len(arr)):\n",
    "        if arr[i]+key > large:\n",
    "            arr2.append(False)\n",
    "        else:\n",
    "            arr2.append(True)\n",
    "    print(arr2,\"\\nlargest num is:\",large)\n",
    "\n",
    "arr=[3,6,4,8,11,6,8,15,7]\n",
    "sumgrtr(arr,6)"
   ]
  },
  {
   "cell_type": "code",
   "execution_count": null,
   "id": "8469930c",
   "metadata": {},
   "outputs": [],
   "source": [
    "def replace_s(string,n):\n",
    "    for i in string:\n",
    "        print(chr(ord(i)+n),end=\"\")\n",
    "\n",
    "        \n",
    "replace_s(\"APPLE\",2)"
   ]
  },
  {
   "cell_type": "code",
   "execution_count": null,
   "id": "6c805ca6",
   "metadata": {},
   "outputs": [],
   "source": [
    "\n",
    "def binary_search(arr,low,high,data):\n",
    "    while low<=high:\n",
    "        mid_element = low + high//2\n",
    "    for i in range(0,len(arr)):\n",
    "        if arr[mid_element] == data:\n",
    "            return mid_element\n",
    "        elif mid_element > data:\n",
    "            high = mid_element -1\n",
    "        else:\n",
    "            low = mid_element +1\n",
    "    return -1\n",
    "\n",
    "\n",
    "arr =[1,2,3,4,5,6,7,8,9]\n",
    "data = 6\n",
    "result = binary_search(arr,0,len(arr)-1,data)\n",
    "if result == -1:\n",
    "    print(\"data not found\")\n",
    "else:\n",
    "    print(result)"
   ]
  },
  {
   "cell_type": "code",
   "execution_count": null,
   "id": "1b51c59c",
   "metadata": {},
   "outputs": [],
   "source": []
  },
  {
   "cell_type": "code",
   "execution_count": null,
   "id": "a74d90ea",
   "metadata": {},
   "outputs": [],
   "source": []
  },
  {
   "cell_type": "code",
   "execution_count": null,
   "id": "1dc46d40",
   "metadata": {},
   "outputs": [],
   "source": []
  },
  {
   "cell_type": "code",
   "execution_count": null,
   "id": "925132d6",
   "metadata": {},
   "outputs": [],
   "source": []
  }
 ],
 "metadata": {
  "kernelspec": {
   "display_name": "Python 3 (ipykernel)",
   "language": "python",
   "name": "python3"
  },
  "language_info": {
   "codemirror_mode": {
    "name": "ipython",
    "version": 3
   },
   "file_extension": ".py",
   "mimetype": "text/x-python",
   "name": "python",
   "nbconvert_exporter": "python",
   "pygments_lexer": "ipython3",
   "version": "3.10.8"
  }
 },
 "nbformat": 4,
 "nbformat_minor": 5
}
